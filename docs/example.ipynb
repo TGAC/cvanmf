{
 "cells": [
  {
   "cell_type": "markdown",
   "metadata": {},
   "source": [
    "# Example usage\n",
    "\n",
    "Simple example of fitting the provided example data to the 5 ES model"
   ]
  },
  {
   "cell_type": "code",
   "execution_count": null,
   "metadata": {},
   "outputs": [],
   "source": [
    "from enterosig import reapply, models\n",
    "from enterosig.reapply import to_relative\n",
    "import numpy as np\n",
    "\n",
    "result = reapply(\n",
    "    abundance=models.example_abundance(), \n",
    "    model_w=models.five_es()\n",
    ")\n",
    "\n",
    "result.model_fit.describe()"
   ]
  },
  {
   "cell_type": "markdown",
   "metadata": {},
   "source": [
    "The results object is a named tuple. The Enterosignature weights for each sample are in the H matrix of the results object."
   ]
  },
  {
   "cell_type": "code",
   "execution_count": null,
   "metadata": {},
   "outputs": [],
   "source": [
    "result.h.head()"
   ]
  },
  {
   "cell_type": "markdown",
   "metadata": {},
   "source": [
    "For most analyses, you will likely want to convert these to relative abundances as below. Note that when transformed to relative values,  $W \\times H \\not\\approx X$."
   ]
  },
  {
   "cell_type": "code",
   "execution_count": null,
   "metadata": {},
   "outputs": [],
   "source": [
    "rel_results = to_relative(result)\n",
    "# We can assert that all the rows now sum to 1\n",
    "assert all(np.isclose(rel_results.h.sum(axis=1), 1.0))\n",
    "rel_results.h.head()"
   ]
  }
 ],
 "metadata": {
  "kernelspec": {
   "display_name": "Python 3 (ipykernel)",
   "language": "python",
   "name": "python3"
  },
  "language_info": {
   "codemirror_mode": {
    "name": "ipython",
    "version": 3
   },
   "file_extension": ".py",
   "mimetype": "text/x-python",
   "name": "python",
   "nbconvert_exporter": "python",
   "pygments_lexer": "ipython3",
   "version": "3.12.0"
  }
 },
 "nbformat": 4,
 "nbformat_minor": 4
}
