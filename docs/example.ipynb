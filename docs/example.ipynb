{
 "cells": [
  {
   "cell_type": "markdown",
   "metadata": {},
   "source": [
    "# Example usage\n",
    "\n",
    "Simple example of fitting the provided example data to the 5 ES model"
   ]
  },
  {
   "cell_type": "code",
   "execution_count": 5,
   "metadata": {},
   "outputs": [
    {
     "name": "stderr",
     "output_type": "stream",
     "text": [
      "INFO [29/12/2023 11:27:25]: If you use this model please cite Frioux et al. (2023, https://doi.org/10.1016/j.chom.2023.05.024)\n",
      "INFO [29/12/2023 11:27:25]: 331 of 586 taxa names matched exactly\n",
      "INFO [29/12/2023 11:27:25]: 9 genera trimmed and matched (i.e Ruminococcus_C -> Ruminococcus)\n",
      "INFO [29/12/2023 11:27:25]: 3 taxa merged by final rank (e.g. UBA1435, CAG-314)\n",
      "INFO [29/12/2023 11:27:25]: 8 taxa matched by name of lowest rank alone\n",
      "INFO [29/12/2023 11:27:25]: 103 genera rolled up to family (i.e Lachonspiraceae;CAG-95 -> Lachnospiraceae)\n",
      "INFO [29/12/2023 11:27:25]: 135 taxa unique to input, could not be matched any entries in Enterosignatures matrix.\n",
      "INFO [29/12/2023 11:27:25]: These unique taxa represent 51.02 abundance of a total 1152.00 (4.43%).\n",
      "INFO [29/12/2023 11:27:25]: Sum of weights in new W matrix is 148.16; Original Enterosignatures matrix sum is 153.44. 3.45% of ES matrix weight lost due to taxa mismatch.\n"
     ]
    },
    {
     "data": {
      "text/html": [
       "<div>\n",
       "<style scoped>\n",
       "    .dataframe tbody tr th:only-of-type {\n",
       "        vertical-align: middle;\n",
       "    }\n",
       "\n",
       "    .dataframe tbody tr th {\n",
       "        vertical-align: top;\n",
       "    }\n",
       "\n",
       "    .dataframe thead th {\n",
       "        text-align: right;\n",
       "    }\n",
       "</style>\n",
       "<table border=\"1\" class=\"dataframe\">\n",
       "  <thead>\n",
       "    <tr style=\"text-align: right;\">\n",
       "      <th></th>\n",
       "      <th>model_fit</th>\n",
       "    </tr>\n",
       "  </thead>\n",
       "  <tbody>\n",
       "    <tr>\n",
       "      <th>count</th>\n",
       "      <td>1152.000000</td>\n",
       "    </tr>\n",
       "    <tr>\n",
       "      <th>mean</th>\n",
       "      <td>0.636157</td>\n",
       "    </tr>\n",
       "    <tr>\n",
       "      <th>std</th>\n",
       "      <td>0.304423</td>\n",
       "    </tr>\n",
       "    <tr>\n",
       "      <th>min</th>\n",
       "      <td>0.010694</td>\n",
       "    </tr>\n",
       "    <tr>\n",
       "      <th>25%</th>\n",
       "      <td>0.351237</td>\n",
       "    </tr>\n",
       "    <tr>\n",
       "      <th>50%</th>\n",
       "      <td>0.733817</td>\n",
       "    </tr>\n",
       "    <tr>\n",
       "      <th>75%</th>\n",
       "      <td>0.914352</td>\n",
       "    </tr>\n",
       "    <tr>\n",
       "      <th>max</th>\n",
       "      <td>0.993902</td>\n",
       "    </tr>\n",
       "  </tbody>\n",
       "</table>\n",
       "</div>"
      ],
      "text/plain": [
       "         model_fit\n",
       "count  1152.000000\n",
       "mean      0.636157\n",
       "std       0.304423\n",
       "min       0.010694\n",
       "25%       0.351237\n",
       "50%       0.733817\n",
       "75%       0.914352\n",
       "max       0.993902"
      ]
     },
     "execution_count": 5,
     "metadata": {},
     "output_type": "execute_result"
    }
   ],
   "source": [
    "from enterosig import transform, models\n",
    "\n",
    "result = transform(\n",
    "    abundance=models.example_abundance(), \n",
    "    model_w=models.five_es()\n",
    ")\n",
    "\n",
    "result.model_fit.describe()"
   ]
  },
  {
   "cell_type": "markdown",
   "metadata": {},
   "source": [
    "The results object is a named tuple. The Enterosignature weights for each sample are in the H matrix of the results object."
   ]
  },
  {
   "cell_type": "code",
   "execution_count": 7,
   "metadata": {},
   "outputs": [
    {
     "data": {
      "text/html": [
       "<div>\n",
       "<style scoped>\n",
       "    .dataframe tbody tr th:only-of-type {\n",
       "        vertical-align: middle;\n",
       "    }\n",
       "\n",
       "    .dataframe tbody tr th {\n",
       "        vertical-align: top;\n",
       "    }\n",
       "\n",
       "    .dataframe thead th {\n",
       "        text-align: right;\n",
       "    }\n",
       "</style>\n",
       "<table border=\"1\" class=\"dataframe\">\n",
       "  <thead>\n",
       "    <tr style=\"text-align: right;\">\n",
       "      <th></th>\n",
       "      <th>ES_Bact</th>\n",
       "      <th>ES_Bifi</th>\n",
       "      <th>ES_Esch</th>\n",
       "      <th>ES_Prev</th>\n",
       "      <th>ES_Firm</th>\n",
       "    </tr>\n",
       "  </thead>\n",
       "  <tbody>\n",
       "    <tr>\n",
       "      <th>W2.35.ST</th>\n",
       "      <td>1.077914e-03</td>\n",
       "      <td>1.368606e-08</td>\n",
       "      <td>0.000628</td>\n",
       "      <td>0.016991</td>\n",
       "      <td>1.196616e-02</td>\n",
       "    </tr>\n",
       "    <tr>\n",
       "      <th>W1.41.ST</th>\n",
       "      <td>8.467672e-05</td>\n",
       "      <td>5.136964e-04</td>\n",
       "      <td>0.000027</td>\n",
       "      <td>0.036528</td>\n",
       "      <td>3.818069e-03</td>\n",
       "    </tr>\n",
       "    <tr>\n",
       "      <th>W2.42.ST</th>\n",
       "      <td>1.197527e-05</td>\n",
       "      <td>1.945573e-03</td>\n",
       "      <td>0.013511</td>\n",
       "      <td>0.029255</td>\n",
       "      <td>1.769652e-15</td>\n",
       "    </tr>\n",
       "    <tr>\n",
       "      <th>W1.39.ST</th>\n",
       "      <td>6.617500e-15</td>\n",
       "      <td>6.081704e-03</td>\n",
       "      <td>0.001049</td>\n",
       "      <td>0.027610</td>\n",
       "      <td>4.645513e-03</td>\n",
       "    </tr>\n",
       "    <tr>\n",
       "      <th>M1.61.ST</th>\n",
       "      <td>5.096353e-07</td>\n",
       "      <td>7.139130e-05</td>\n",
       "      <td>0.003599</td>\n",
       "      <td>0.033310</td>\n",
       "      <td>3.276133e-03</td>\n",
       "    </tr>\n",
       "  </tbody>\n",
       "</table>\n",
       "</div>"
      ],
      "text/plain": [
       "               ES_Bact       ES_Bifi   ES_Esch   ES_Prev       ES_Firm\n",
       "W2.35.ST  1.077914e-03  1.368606e-08  0.000628  0.016991  1.196616e-02\n",
       "W1.41.ST  8.467672e-05  5.136964e-04  0.000027  0.036528  3.818069e-03\n",
       "W2.42.ST  1.197527e-05  1.945573e-03  0.013511  0.029255  1.769652e-15\n",
       "W1.39.ST  6.617500e-15  6.081704e-03  0.001049  0.027610  4.645513e-03\n",
       "M1.61.ST  5.096353e-07  7.139130e-05  0.003599  0.033310  3.276133e-03"
      ]
     },
     "execution_count": 7,
     "metadata": {},
     "output_type": "execute_result"
    }
   ],
   "source": [
    "result.h.head()"
   ]
  },
  {
   "cell_type": "markdown",
   "metadata": {},
   "source": [
    "For most analyses, you will likely want to convert these to relative abundances as below."
   ]
  },
  {
   "cell_type": "code",
   "execution_count": 23,
   "metadata": {},
   "outputs": [
    {
     "data": {
      "text/html": [
       "<div>\n",
       "<style scoped>\n",
       "    .dataframe tbody tr th:only-of-type {\n",
       "        vertical-align: middle;\n",
       "    }\n",
       "\n",
       "    .dataframe tbody tr th {\n",
       "        vertical-align: top;\n",
       "    }\n",
       "\n",
       "    .dataframe thead th {\n",
       "        text-align: right;\n",
       "    }\n",
       "</style>\n",
       "<table border=\"1\" class=\"dataframe\">\n",
       "  <thead>\n",
       "    <tr style=\"text-align: right;\">\n",
       "      <th></th>\n",
       "      <th>ES_Bact</th>\n",
       "      <th>ES_Bifi</th>\n",
       "      <th>ES_Esch</th>\n",
       "      <th>ES_Prev</th>\n",
       "      <th>ES_Firm</th>\n",
       "    </tr>\n",
       "  </thead>\n",
       "  <tbody>\n",
       "    <tr>\n",
       "      <th>W2.35.ST</th>\n",
       "      <td>3.515361e-02</td>\n",
       "      <td>4.463382e-07</td>\n",
       "      <td>0.020474</td>\n",
       "      <td>0.554124</td>\n",
       "      <td>3.902478e-01</td>\n",
       "    </tr>\n",
       "    <tr>\n",
       "      <th>W1.41.ST</th>\n",
       "      <td>2.066730e-03</td>\n",
       "      <td>1.253794e-02</td>\n",
       "      <td>0.000664</td>\n",
       "      <td>0.891543</td>\n",
       "      <td>9.318873e-02</td>\n",
       "    </tr>\n",
       "    <tr>\n",
       "      <th>W2.42.ST</th>\n",
       "      <td>2.677612e-04</td>\n",
       "      <td>4.350209e-02</td>\n",
       "      <td>0.302094</td>\n",
       "      <td>0.654136</td>\n",
       "      <td>3.956857e-14</td>\n",
       "    </tr>\n",
       "    <tr>\n",
       "      <th>W1.39.ST</th>\n",
       "      <td>1.680187e-13</td>\n",
       "      <td>1.544148e-01</td>\n",
       "      <td>0.026628</td>\n",
       "      <td>0.701008</td>\n",
       "      <td>1.179499e-01</td>\n",
       "    </tr>\n",
       "    <tr>\n",
       "      <th>M1.61.ST</th>\n",
       "      <td>1.265951e-05</td>\n",
       "      <td>1.773383e-03</td>\n",
       "      <td>0.089412</td>\n",
       "      <td>0.827421</td>\n",
       "      <td>8.138020e-02</td>\n",
       "    </tr>\n",
       "  </tbody>\n",
       "</table>\n",
       "</div>"
      ],
      "text/plain": [
       "               ES_Bact       ES_Bifi   ES_Esch   ES_Prev       ES_Firm\n",
       "W2.35.ST  3.515361e-02  4.463382e-07  0.020474  0.554124  3.902478e-01\n",
       "W1.41.ST  2.066730e-03  1.253794e-02  0.000664  0.891543  9.318873e-02\n",
       "W2.42.ST  2.677612e-04  4.350209e-02  0.302094  0.654136  3.956857e-14\n",
       "W1.39.ST  1.680187e-13  1.544148e-01  0.026628  0.701008  1.179499e-01\n",
       "M1.61.ST  1.265951e-05  1.773383e-03  0.089412  0.827421  8.138020e-02"
      ]
     },
     "execution_count": 23,
     "metadata": {},
     "output_type": "execute_result"
    }
   ],
   "source": [
    "import numpy as np\n",
    "\n",
    "rel_weights = (result.h.T / result.h.sum(axis=1)).T\n",
    "assert np.isclose(rel_weights.sum(axis=1), 1.0).all()\n",
    "rel_weights.head()"
   ]
  },
  {
   "cell_type": "code",
   "execution_count": null,
   "metadata": {},
   "outputs": [],
   "source": []
  }
 ],
 "metadata": {
  "kernelspec": {
   "display_name": "Python 3 (ipykernel)",
   "language": "python",
   "name": "python3"
  },
  "language_info": {
   "codemirror_mode": {
    "name": "ipython",
    "version": 3
   },
   "file_extension": ".py",
   "mimetype": "text/x-python",
   "name": "python",
   "nbconvert_exporter": "python",
   "pygments_lexer": "ipython3",
   "version": "3.12.0"
  }
 },
 "nbformat": 4,
 "nbformat_minor": 4
}
